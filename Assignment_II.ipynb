{
  "nbformat": 4,
  "nbformat_minor": 0,
  "metadata": {
    "colab": {
      "name": "Assignment-II.ipynb",
      "provenance": [],
      "collapsed_sections": [],
      "authorship_tag": "ABX9TyPmlDL90SQz6IVDRsqmj5p+",
      "include_colab_link": true
    },
    "kernelspec": {
      "name": "python3",
      "display_name": "Python 3"
    }
  },
  "cells": [
    {
      "cell_type": "markdown",
      "metadata": {
        "id": "view-in-github",
        "colab_type": "text"
      },
      "source": [
        "<a href=\"https://colab.research.google.com/github/18K41A0253/Assignment-II/blob/master/Assignment_II.ipynb\" target=\"_parent\"><img src=\"https://colab.research.google.com/assets/colab-badge.svg\" alt=\"Open In Colab\"/></a>"
      ]
    },
    {
      "cell_type": "markdown",
      "metadata": {
        "id": "YA7ZG8tc3nPy",
        "colab_type": "text"
      },
      "source": [
        " 1.Area of Triangle : Given the lengths of        three sides of a triangle, calculate the area of the triangle."
      ]
    },
    {
      "cell_type": "code",
      "metadata": {
        "id": "vQFxkyk731Vu",
        "colab_type": "code",
        "colab": {
          "base_uri": "https://localhost:8080/",
          "height": 174
        },
        "outputId": "5b1c07fe-764f-4c7b-92d8-2edf270c7278"
      },
      "source": [
        "A = float(input('Enter the first side : '))\n",
        "B = float(input('Enter the second side : '))\n",
        "C = float(input('Enter the third side : '))\n",
        "S = (A+B+C)/2\n",
        "a=(S*(S-A)*(S-B)*(S-C)) ** 0.5\n",
        "print('The area of the triangle is',a)"
      ],
      "execution_count": 9,
      "outputs": [
        {
          "output_type": "stream",
          "text": [
            "Enter the first side : 4\n",
            "Enter the second side : 3\n",
            "Enter the third side : 5\n",
            "The area of the triangle is 6.0\n",
            "Enter the first side : 5\n",
            "Enter the second side : 6\n",
            "Enter the third side : 6\n",
            "The area of the triangle is 13.635890143294644\n"
          ],
          "name": "stdout"
        }
      ]
    },
    {
      "cell_type": "markdown",
      "metadata": {
        "id": "Ogw6LR6-4LHj",
        "colab_type": "text"
      },
      "source": [
        "2.Take a string from end user and check if the value is palindrome or not"
      ]
    },
    {
      "cell_type": "code",
      "metadata": {
        "id": "CQXr5BxO4Rps",
        "colab_type": "code",
        "colab": {
          "base_uri": "https://localhost:8080/",
          "height": 51
        },
        "outputId": "569c0301-0e9a-4c49-df9a-ee582d612cf0"
      },
      "source": [
        " a=input('enter a string : ')\n",
        "b=a[::-1]\n",
        "if a==b:\n",
        "  print(\"string is a palindrome\")\n",
        "else:\n",
        "  print(\"string is a not palindrome\")"
      ],
      "execution_count": null,
      "outputs": [
        {
          "output_type": "stream",
          "text": [
            "enter a string : pop\n",
            "string is a palindrome\n"
          ],
          "name": "stdout"
        }
      ]
    },
    {
      "cell_type": "markdown",
      "metadata": {
        "id": "hk-NIe7t4iCT",
        "colab_type": "text"
      },
      "source": [
        "3.Write a program that reads a year from the user and displays a message Indicating     whether or not it is a leap year."
      ]
    },
    {
      "cell_type": "code",
      "metadata": {
        "id": "ZsX_TvtT4plX",
        "colab_type": "code",
        "colab": {
          "base_uri": "https://localhost:8080/",
          "height": 51
        },
        "outputId": "e6972496-77cb-4a2e-8962-96154947cbfc"
      },
      "source": [
        " y=int(input('enter year you want to check : '))\n",
        "if y%4==0:\n",
        "  print(y,'is a leap year')\n",
        "else:\n",
        "  print(y,'is not a leap year')"
      ],
      "execution_count": null,
      "outputs": [
        {
          "output_type": "stream",
          "text": [
            "enter year you want to check : 2000\n",
            "2000 is a leap year\n"
          ],
          "name": "stdout"
        }
      ]
    },
    {
      "cell_type": "markdown",
      "metadata": {
        "id": "dl71_pA-4xeY",
        "colab_type": "text"
      },
      "source": [
        "4.Take a string as input, and replaces spaces “ “ with hyphens “-”, and returns a string."
      ]
    },
    {
      "cell_type": "code",
      "metadata": {
        "id": "arVgo1cq5GXm",
        "colab_type": "code",
        "colab": {
          "base_uri": "https://localhost:8080/",
          "height": 71
        },
        "outputId": "c524e19d-f1b8-431a-960b-16ead26dcae2"
      },
      "source": [
        " st=input(\"Enter any string :\")\n",
        "st=st.replace(' ','-')\n",
        "print(\"string after replacing space with hyphen is = \",st)"
      ],
      "execution_count": null,
      "outputs": [
        {
          "output_type": "stream",
          "text": [
            "Enter any string :AI is an intresting subject\n",
            "string after replacing space with hyphen is =  AI-is-an-intresting-subject\n"
          ],
          "name": "stdout"
        }
      ]
    },
    {
      "cell_type": "markdown",
      "metadata": {
        "id": "QfXCBHsN5dPN",
        "colab_type": "text"
      },
      "source": [
        "5.Take a string as input that accepts a comma separated sequence of words as input and prints the unique words in sorted form (alphanumerically)"
      ]
    },
    {
      "cell_type": "code",
      "metadata": {
        "id": "o569_55z5iIE",
        "colab_type": "code",
        "colab": {
          "base_uri": "https://localhost:8080/",
          "height": 88
        },
        "outputId": "ced2bcaf-2a4b-42c6-f713-701fa145ec28"
      },
      "source": [
        " s = input(\"enter list of words with commas : \")\n",
        "k = [k for k in s.split(\",\")]\n",
        "print('alphanumerically sorted string is :')\n",
        "print(\",\".join(sorted(list(set(k)))))"
      ],
      "execution_count": null,
      "outputs": [
        {
          "output_type": "stream",
          "text": [
            "enter list of words with commas : Egg,banana,sprouts\n",
            "alphanumerically sorted string is :\n",
            "Egg,banana,sprouts\n"
          ],
          "name": "stdout"
        }
      ]
    },
    {
      "cell_type": "markdown",
      "metadata": {
        "id": "0JSYAdI15_6E",
        "colab_type": "text"
      },
      "source": [
        "6.Tax Calculator Ask the user for their monthly salary. Calculate whether they have to pay tax and if so, how much is that amount .Print the result"
      ]
    },
    {
      "cell_type": "code",
      "metadata": {
        "id": "VzUfF2rT6W-3",
        "colab_type": "code",
        "colab": {
          "base_uri": "https://localhost:8080/",
          "height": 51
        },
        "outputId": "45a9a68b-f356-434e-fbd7-4255ae1a5935"
      },
      "source": [
        " t={1:0,2:0.05,3:0.1,4:0.15,5:0.2,6:0.25,7:0.3}\n",
        "sa=int(input('please enter your salary : '))\n",
        "if sa<250000:\n",
        "  i=1\n",
        "elif 250001<sa<500000:\n",
        "  i=2\n",
        "elif 500001<sa<750000:\n",
        "  i=3\n",
        "elif 750001<sa<1000000:\n",
        "  i=4\n",
        "elif 1000001<sa<1250000:\n",
        "  i=5\n",
        "elif 1250001<sa<1500000:\n",
        "  i=6\n",
        "else:\n",
        "  i=7\n",
        "sa=sa*t[i]\n",
        "print(\"your tax payablee is\", sa)"
      ],
      "execution_count": null,
      "outputs": [
        {
          "output_type": "stream",
          "text": [
            "please enter your salary : 200000\n",
            "your tax payablee is 0\n"
          ],
          "name": "stdout"
        }
      ]
    },
    {
      "cell_type": "markdown",
      "metadata": {
        "id": "_0cqUojR7Yqf",
        "colab_type": "text"
      },
      "source": [
        "7. Take a list of integers as an argument, and converts it into a single integer (return the integer)."
      ]
    },
    {
      "cell_type": "code",
      "metadata": {
        "id": "4vPgxzhS7anT",
        "colab_type": "code",
        "colab": {
          "base_uri": "https://localhost:8080/",
          "height": 208
        },
        "outputId": "6eee8f1f-9020-423b-d293-274ec88e8c29"
      },
      "source": [
        " s=[]\n",
        "n=int(input('Enter number of elements :')) \n",
        "print('enter elements :')\n",
        "for i in range(0, n): \n",
        "    e = int(input()) \n",
        "    s.append(e) \n",
        "print('list of integers entered is',s)\n",
        "k=i=0\n",
        "for n in s:\n",
        "  k=n+k*10\n",
        "  i+=1\n",
        "print('the list as single integer is - ',k)"
      ],
      "execution_count": null,
      "outputs": [
        {
          "output_type": "stream",
          "text": [
            "Enter number of elements :6\n",
            "enter elements :\n",
            "1\n",
            "2\n",
            "3\n",
            "4\n",
            "5\n",
            "6\n",
            "list of integers entered is [1, 2, 3, 4, 5, 6]\n",
            "the list as single integer is -  123456\n"
          ],
          "name": "stdout"
        }
      ]
    },
    {
      "cell_type": "markdown",
      "metadata": {
        "id": "w8oTvyaj7udt",
        "colab_type": "text"
      },
      "source": [
        "8.Create a program that reads duration from the user as a number of days, hours, minutes, and seconds. Compute and display the total number of seconds represented by this duration."
      ]
    },
    {
      "cell_type": "code",
      "metadata": {
        "id": "7Mgfk-yz8Qoo",
        "colab_type": "code",
        "colab": {
          "base_uri": "https://localhost:8080/",
          "height": 102
        },
        "outputId": "f900f0f9-5555-40e9-ea06-549a43ebe967"
      },
      "source": [
        " d=int(input('enter number of days'))\n",
        "h=int(input('enter number of hours'))\n",
        "m=int(input('enter number of minutes'))\n",
        "s=int(input('enter number of seconds'))\n",
        "print('total number of seconds are ',d*86400+h*3600+m*60+s)"
      ],
      "execution_count": null,
      "outputs": [
        {
          "output_type": "stream",
          "text": [
            "enter number of days3\n",
            "enter number of hours13\n",
            "enter number of minutes600\n",
            "enter number of seconds678\n",
            "total number of seconds are  342678\n"
          ],
          "name": "stdout"
        }
      ]
    },
    {
      "cell_type": "markdown",
      "metadata": {
        "id": "kPx2iAfo-s4i",
        "colab_type": "text"
      },
      "source": [
        " 9.Given three integers (given through user input), sort the numbers using |min| and |max| functions."
      ]
    },
    {
      "cell_type": "code",
      "metadata": {
        "id": "bK_kxGG-BLVR",
        "colab_type": "code",
        "colab": {
          "base_uri": "https://localhost:8080/",
          "height": 105
        },
        "outputId": "4a54ba92-c1f6-4dad-b5ca-f22c9a5c0fcc"
      },
      "source": [
        " a=int(input('enter first number : '))\n",
        "b=int(input('enter second number : '))\n",
        "c=int(input('enter third number : '))\n",
        "ma=max(a,b,c)\n",
        "mi=min(a,b,c)\n",
        "print('the numbers are shorted in order of: ',mi,a+b+c-(ma+mi),ma)"
      ],
      "execution_count": null,
      "outputs": [
        {
          "output_type": "stream",
          "text": [
            "enter first number : 7868\n",
            "enter second number : 6755\n",
            "enter third number : 0987\n",
            "the numbers are shorted in order of:  987 6755 7868\n"
          ],
          "name": "stdout"
        }
      ]
    },
    {
      "cell_type": "markdown",
      "metadata": {
        "id": "GIfQJPoFCgHC",
        "colab_type": "text"
      },
      "source": [
        "10.Write a program that reads a date from the user and computes its immediate successor. The date is the format YYYY-MM-DD. So, 2020-04-15 will have the successor 2020-04-16."
      ]
    },
    {
      "cell_type": "code",
      "metadata": {
        "id": "pUo6b5ECCzNH",
        "colab_type": "code",
        "colab": {
          "base_uri": "https://localhost:8080/",
          "height": 85
        },
        "outputId": "644fb6e6-718a-47af-bd6b-0ad443f87263"
      },
      "source": [
        " y = int(input(\"enter a year: \"))\n",
        "m= int(input(\"Input a month [1-12]: \"))\n",
        "d = int(input(\"Input a day [1-31]: \"))\n",
        "if (y % 4 == 0):\n",
        "  ly = True\n",
        "else:\n",
        "  ly = False\n",
        "if m in (1, 3, 5, 7, 8, 10, 12):\n",
        "  ml= 31\n",
        "elif m == 2:\n",
        "    if ly:\n",
        "        ml= 29\n",
        "    else:\n",
        "        ml = 28\n",
        "else:\n",
        "    ml= 30\n",
        "if d < ml:\n",
        "    d += 1\n",
        "else:\n",
        "    d=1\n",
        "    if m == 12:\n",
        "        m = 1\n",
        "        y += 1\n",
        "    else:\n",
        "        m += 1\n",
        "print(\"The next date : \" ,y,m,d)"
      ],
      "execution_count": null,
      "outputs": [
        {
          "output_type": "stream",
          "text": [
            "enter a year: 1999\n",
            "Input a month [1-12]: 3\n",
            "Input a day [1-31]: 23\n",
            "The next date :  1999 3 24\n"
          ],
          "name": "stdout"
        }
      ]
    },
    {
      "cell_type": "markdown",
      "metadata": {
        "id": "9ZNv1TojC_xG",
        "colab_type": "text"
      },
      "source": [
        " 11.Compute product of a list of numbers [45 ,3,2,89,72,1,10,7] Output: 121111200"
      ]
    },
    {
      "cell_type": "code",
      "metadata": {
        "id": "zffYnJ21DEE5",
        "colab_type": "code",
        "colab": {
          "base_uri": "https://localhost:8080/",
          "height": 54
        },
        "outputId": "49e91df3-752b-4cba-88a8-443a23477ee8"
      },
      "source": [
        " l=[45,3,2,89,72,1,10,7]\n",
        "r=1\n",
        "for i in l:\n",
        "  r*=i\n",
        "print(\"multiplication of all elements : \",r)"
      ],
      "execution_count": null,
      "outputs": [
        {
          "output_type": "stream",
          "text": [
            "multiplication of all elements :  121111200\n"
          ],
          "name": "stdout"
        }
      ]
    },
    {
      "cell_type": "markdown",
      "metadata": {
        "id": "d7f2ahB9DL9P",
        "colab_type": "text"
      },
      "source": [
        "12.Compute given Num_list = [5, 6,8 ,34,89,1] to get desired output Output: Out_list=[11,14,42,123,90]"
      ]
    },
    {
      "cell_type": "code",
      "metadata": {
        "id": "N_EaQy6ND6WI",
        "colab_type": "code",
        "colab": {
          "base_uri": "https://localhost:8080/",
          "height": 156
        },
        "outputId": "ba988f5c-0a06-418b-f405-6903cc3f9089"
      },
      "source": [
        " l=[]\n",
        "n=int(input('Enter number of elements :')) \n",
        "print('enter elements :')\n",
        "for i in range(0, n): \n",
        "    e = int(input()) \n",
        "    l.append(e)\n",
        "print('list you have entered is : ',str(l)) \n",
        "s=[] \n",
        "for i in range(1, len(l)): \n",
        "    s.append(l[i]+l[i-1]) \n",
        "print (\"difference list : \",s)"
      ],
      "execution_count": null,
      "outputs": [
        {
          "output_type": "stream",
          "text": [
            "Enter number of elements :3\n",
            "enter elements :\n",
            "677\n",
            "5\n",
            "7\n",
            "list you have entered is :  [677, 5, 7]\n",
            "difference list :  [682, 12]\n"
          ],
          "name": "stdout"
        }
      ]
    },
    {
      "cell_type": "markdown",
      "metadata": {
        "id": "kkqz2_IPEIPI",
        "colab_type": "text"
      },
      "source": [
        " 13.Compute given Num_tuple = (5, 6,8 ,3,9,1) to get desired output Output: Out_list = [5, 30, 240, 720, 6480, 6480]"
      ]
    },
    {
      "cell_type": "code",
      "metadata": {
        "id": "mGfxX_u5EUaj",
        "colab_type": "code",
        "colab": {
          "base_uri": "https://localhost:8080/",
          "height": 54
        },
        "outputId": "d3585f37-e190-4a08-b74f-7dd13aec3edc"
      },
      "source": [
        " l=(5,6,8,3,9,1)\n",
        "p=[]\n",
        "r=1\n",
        "for i in l:\n",
        "  r*=i\n",
        "  p.append(r)\n",
        "print(\"multiplication list of all elements is : \",p)"
      ],
      "execution_count": null,
      "outputs": [
        {
          "output_type": "stream",
          "text": [
            "multiplication list of all elements is :  [5, 30, 240, 720, 6480, 6480]\n"
          ],
          "name": "stdout"
        }
      ]
    },
    {
      "cell_type": "markdown",
      "metadata": {
        "id": "s-9IiQVhEbMx",
        "colab_type": "text"
      },
      "source": [
        " 14.Write a Python code that takes a number and returns a list of its digits. So for 586392 it should return [5,8,6,3,9,2]"
      ]
    },
    {
      "cell_type": "code",
      "metadata": {
        "id": "BmiNBIFOEdZZ",
        "colab_type": "code",
        "colab": {
          "base_uri": "https://localhost:8080/",
          "height": 51
        },
        "outputId": "5d8b7bfa-c615-47c0-a17d-1a2fb236c7ce"
      },
      "source": [
        " n=int(input('enter an integer : '))\n",
        "s=[]\n",
        "for x in str(n):\n",
        "  s.append(int(x))\n",
        "print(s)"
      ],
      "execution_count": null,
      "outputs": [
        {
          "output_type": "stream",
          "text": [
            "enter an integer : 525255\n",
            "[5, 2, 5, 2, 5, 5]\n"
          ],
          "name": "stdout"
        }
      ]
    },
    {
      "cell_type": "markdown",
      "metadata": {
        "id": "mkz1d2f1EoVn",
        "colab_type": "text"
      },
      "source": [
        " 15.Write a program that finds the longest palindromic substring of a given string"
      ]
    },
    {
      "cell_type": "code",
      "metadata": {
        "id": "di41BKdbLVfA",
        "colab_type": "code",
        "colab": {
          "base_uri": "https://localhost:8080/",
          "height": 51
        },
        "outputId": "e610a331-8713-4f05-d069-3d4e32d6b2a2"
      },
      "source": [
        " \n",
        "def longestpalindrome(n):\n",
        "    d=[[False for i in range(len(n))] for i in range(len(n))]\n",
        "    for i in range(len(n)):\n",
        "        d[i][i]=True\n",
        "    maxlen=1\n",
        "    start=0\n",
        "    for j in range(2,len(n)+1):\n",
        "        for i in range(len(n)-j+1):\n",
        "            end=i+j\n",
        "            if j==2:\n",
        "                if n[i]==n[end-1]:\n",
        "                    d[i][end-1]=True\n",
        "                    maxlen=j\n",
        "                    start=i\n",
        "            else:\n",
        "                if n[i]==n[end-1] and d[i+1][end-2]:\n",
        "                    d[i][end-1]=True\n",
        "                    maxlen=j\n",
        "                    start=i\n",
        "    return n[start:start+maxlen]\n",
        "n=input(\"Enter a string : \")\n",
        "print(longestpalindrome(n))"
      ],
      "execution_count": null,
      "outputs": [
        {
          "output_type": "stream",
          "text": [
            "Enter a string : BHARATH\n",
            "ARA\n"
          ],
          "name": "stdout"
        }
      ]
    },
    {
      "cell_type": "markdown",
      "metadata": {
        "id": "QHmXbigDNCgq",
        "colab_type": "text"
      },
      "source": [
        " 16.Substring Check (Bug Funny) Given two binary strings, A (of length 10) and B (of length 5), output 1 if B is a substring of A and 0 otherwise.\n",
        "First two lines of input:\n",
        "1010110010 10110\n",
        "1110111011 10011\n",
        "First two lines of output: 1 0"
      ]
    },
    {
      "cell_type": "code",
      "metadata": {
        "id": "WlyfNCH7d0Xx",
        "colab_type": "code",
        "colab": {
          "base_uri": "https://localhost:8080/",
          "height": 122
        },
        "outputId": "4149b5e0-1578-4aea-f629-6e563299199a"
      },
      "source": [
        " t=int(input())\n",
        "for i in range(t):\n",
        "  A,B=input(\"Enter A string and B string : \").split()\n",
        "  if B in A:\n",
        "    print(\"1\")\n",
        "  else:\n",
        "    print(\"0\")"
      ],
      "execution_count": null,
      "outputs": [
        {
          "output_type": "stream",
          "text": [
            "2\n",
            "Enter A string and B string : Bharath ara\n",
            "1\n",
            "Enter A string and B string : ara Bharat\n",
            "0\n"
          ],
          "name": "stdout"
        }
      ]
    },
    {
      "cell_type": "markdown",
      "metadata": {
        "id": "DZ9gaZL8PTd8",
        "colab_type": "text"
      },
      "source": [
        " 17.POUR1 - Pouring water Given two vessels, one of which can accommodate a litres of water and the other - b litres of water, determine the number of steps required to obtain exactly c litres of water in one of the vessels. At the beginning both vessels are empty. The following operations are counted as 'steps':emptying a vessel,filling a vessel,pouring water from one vessel to the other, without spilling, until one of the vessels is either full or empty.Input : An integer t, 1<=t<=100, denoting the number of testcases , followed by t sets of input data, each consisting of three positive integers a, b, c, not larger than 40000, given in separate lines.Output : For each set of input data, output the minimum number of steps required to obtain c litres, or -1 if this is impossible."
      ]
    },
    {
      "cell_type": "code",
      "metadata": {
        "id": "svOBBGB6PWOM",
        "colab_type": "code",
        "colab": {
          "base_uri": "https://localhost:8080/",
          "height": 191
        },
        "outputId": "e77c639f-ae18-4fdd-948a-aaa17b01b5e9"
      },
      "source": [
        " \n",
        "def gcd(a,b):\n",
        "    if b==0: \n",
        "        return a \n",
        "    return gcd(b,a%b) \n",
        "def countsteps(a,b,c): \n",
        "    v1=b\n",
        "    v2=0\n",
        "    count=1\n",
        "    while ((v1 is not c) and (v2 is not c)): \n",
        "        temp=min(v1,a-v2) \n",
        "        v2=v2+temp \n",
        "        v1=v1-temp \n",
        "        count=count+1\n",
        "        if ((v2==c)or(v1==c)): \n",
        "            break\n",
        "        if v1==0: \n",
        "            v1=b \n",
        "            count=count+1\n",
        "        if v2==a: \n",
        "            v2=0\n",
        "            count=count+1\n",
        "    return count \n",
        "def ispossible(a,b,c): \n",
        "    if a>b: \n",
        "        temp=a \n",
        "        a=b \n",
        "        b=temp \n",
        "    if c>b: \n",
        "        return -1\n",
        "    if (c%(gcd(b,a)) is not 0): \n",
        "        return -1\n",
        "    return(min(countsteps(b,a,c),countsteps(a,b,c)))\n",
        "t=int(input(\"Enter no of testcases : \"))\n",
        "for i in range(t):\n",
        "  a=int(input(\"Enter capacity of vessel a : \"))\n",
        "  b=int(input(\"Enter capacity of vessel b : \"))\n",
        "  c=int(input(\"Enter capacity to be obtained :\"))\n",
        "  print(\"Minimum number of steps required is : \",ispossible(a,b,c))"
      ],
      "execution_count": null,
      "outputs": [
        {
          "output_type": "stream",
          "text": [
            "Enter no of testcases : 2\n",
            "Enter capacity of vessel a : 299\n",
            "Enter capacity of vessel b : 399\n",
            "Enter capacity to be obtained :7889\n",
            "Minimum number of steps required is :  -1\n",
            "Enter capacity of vessel a : 3\n",
            "Enter capacity of vessel b : 7\n",
            "Enter capacity to be obtained :6\n",
            "Minimum number of steps required is :  4\n"
          ],
          "name": "stdout"
        }
      ]
    }
  ]
}